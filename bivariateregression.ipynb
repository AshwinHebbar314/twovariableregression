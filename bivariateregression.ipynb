{
 "metadata": {
  "language_info": {
   "codemirror_mode": {
    "name": "ipython",
    "version": 3
   },
   "file_extension": ".py",
   "mimetype": "text/x-python",
   "name": "python",
   "nbconvert_exporter": "python",
   "pygments_lexer": "ipython3",
   "version": "3.7.4-final"
  },
  "orig_nbformat": 2,
  "kernelspec": {
   "name": "python3",
   "display_name": "Python 3"
  }
 },
 "nbformat": 4,
 "nbformat_minor": 2,
 "cells": [
  {
   "cell_type": "code",
   "execution_count": 35,
   "metadata": {},
   "outputs": [],
   "source": [
    "import numpy as np"
   ]
  },
  {
   "cell_type": "code",
   "execution_count": 36,
   "metadata": {},
   "outputs": [],
   "source": [
    "x = np.array([0,1,2,3])\n",
    "y = np.array([3,8,13,18])"
   ]
  },
  {
   "cell_type": "code",
   "execution_count": 37,
   "metadata": {},
   "outputs": [],
   "source": [
    "xbar = np.mean(x)\n",
    "ybar = np.mean(y)\n",
    "\n",
    "varx = (np.sum((x-xbar)**2))/len(x)\n",
    "vary = (np.sum((y-ybar)**2))/len(y)\n",
    "\n",
    "covxy = (np.sum((x-xbar)*(y-ybar)))/len(x)\n",
    "\n",
    "r = covxy/(np.sqrt(varx)*np.sqrt(vary))\n",
    "byx = r*(np.sqrt(vary)/np.sqrt(varx))"
   ]
  },
  {
   "cell_type": "code",
   "execution_count": 38,
   "metadata": {},
   "outputs": [],
   "source": [
    "byx = r*(np.sqrt(vary)/np.sqrt(varx))"
   ]
  },
  {
   "cell_type": "code",
   "execution_count": 43,
   "metadata": {},
   "outputs": [
    {
     "output_type": "stream",
     "name": "stdout",
     "text": [
      "m = 5.0, c = 3.0\n"
     ]
    }
   ],
   "source": [
    "m = round(byx, 4)\n",
    "c = round((byx*-xbar + ybar), 4)\n",
    "print(f\"m = {m}, c = {c}\")"
   ]
  },
  {
   "cell_type": "code",
   "execution_count": 44,
   "metadata": {},
   "outputs": [
    {
     "output_type": "stream",
     "name": "stdout",
     "text": [
      "The Equation is: y = 5x + 3\n"
     ]
    }
   ],
   "source": [
    "print(f\"The Equation is: y = {int(m)}x + {int(c)}\")"
   ]
  },
  {
   "cell_type": "code",
   "execution_count": null,
   "metadata": {},
   "outputs": [],
   "source": []
  }
 ]
}